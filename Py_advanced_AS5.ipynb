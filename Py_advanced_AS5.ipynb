{
 "cells": [
  {
   "cell_type": "code",
   "execution_count": null,
   "id": "dd601531",
   "metadata": {},
   "outputs": [],
   "source": [
    "#Subsets\n",
    "class Solution:\n",
    "    def subsets(self, nums: List[int]) -> List[List[int]]:\n",
    "        subsets = [[]]\n",
    "        for num in nums:\n",
    "            n = len(subsets)\n",
    "            for i in range(n):\n",
    "                subset = list(subsets[i])\n",
    "                subset.append(num)\n",
    "                subsets.append(subset)\n",
    "        return subsets"
   ]
  },
  {
   "cell_type": "code",
   "execution_count": null,
   "id": "bc2b9dbe",
   "metadata": {},
   "outputs": [],
   "source": [
    "#Hamming Distance\n",
    "class Solution:\n",
    "    def hammingDistance(self, x: int, y: int) -> int:\n",
    "        return bin(x ^ y).count('1')"
   ]
  },
  {
   "cell_type": "code",
   "execution_count": null,
   "id": "a6f2c167",
   "metadata": {},
   "outputs": [],
   "source": [
    "#Single Number II\n",
    "class Solution:\n",
    "    def singleNumber(self, nums: List[int]) -> int:\n",
    "        return int((3*sum(set(nums)) - sum(nums))/2)"
   ]
  }
 ],
 "metadata": {
  "kernelspec": {
   "display_name": "Python 3 (ipykernel)",
   "language": "python",
   "name": "python3"
  },
  "language_info": {
   "codemirror_mode": {
    "name": "ipython",
    "version": 3
   },
   "file_extension": ".py",
   "mimetype": "text/x-python",
   "name": "python",
   "nbconvert_exporter": "python",
   "pygments_lexer": "ipython3",
   "version": "3.9.13"
  }
 },
 "nbformat": 4,
 "nbformat_minor": 5
}
